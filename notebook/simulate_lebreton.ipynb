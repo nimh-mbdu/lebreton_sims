{
 "cells": [
  {
   "cell_type": "code",
   "execution_count": 1,
   "metadata": {},
   "outputs": [
    {
     "data": {
      "text/html": [
       "<style>#notebook { padding-top:0px !important; } .container { width:100% !important; } .end_space { min-height:0px !important; } </style>"
      ],
      "text/plain": [
       "<IPython.core.display.HTML object>"
      ]
     },
     "metadata": {},
     "output_type": "display_data"
    }
   ],
   "source": [
    "import numpy as np\n",
    "import pandas as pd\n",
    "from matplotlib import pyplot as plt\n",
    "import seaborn as sns\n",
    "%matplotlib inline\n",
    "from scipy import stats\n",
    "import statsmodels.formula.api as smf\n",
    "from pymer4.models import Lm, Lmer\n",
    "\n",
    "from IPython.core.display import display, HTML\n",
    "display(HTML(\"<style>\"\n",
    "    + \"#notebook { padding-top:0px !important; } \" \n",
    "    + \".container { width:100% !important; } \"\n",
    "    + \".end_space { min-height:0px !important; } \"\n",
    "    + \"</style>\"))"
   ]
  },
  {
   "cell_type": "markdown",
   "metadata": {},
   "source": [
    "# Simulate some data\n",
    "Assume that there is a bold signal Y correlated within each subject to behavior x. h is a heterogenity factor that influences the variance of x. There is subject level noise in the relationship between x and Y. Assume proportional coding."
   ]
  },
  {
   "cell_type": "code",
   "execution_count": 2,
   "metadata": {},
   "outputs": [],
   "source": [
    "class SimulatedData(object):\n",
    "\n",
    "    def __init__(self, n_subj=50, n_trials=50,\n",
    "                 x_y_m=2, x_y_b=0, x_y_e=0,\n",
    "                 h_y_m=0, hx_y_m = 0,\n",
    "                 s_x_mvar=1, s_bvar=0.1,\n",
    "                 s_h_mvar=0, s_hx_mvar=0,\n",
    "                 varx_h_m=1, varx_h_b=1, varx_h_e=0):\n",
    "        \n",
    "        self.n_subj = n_subj\n",
    "        self.n_trials = n_trials\n",
    "        self.x_y_m = x_y_m\n",
    "        self.x_y_b = x_y_b\n",
    "        self.x_y_e = x_y_e\n",
    "        self.h_y_m = h_y_m\n",
    "        self.hx_y_m = hx_y_m\n",
    "        self.s_x_mvar = s_x_mvar\n",
    "        self.s_h_mvar = s_h_mvar\n",
    "        self.s_hx_mvar = s_hx_mvar\n",
    "        self.s_bvar = s_bvar\n",
    "        self.varx_h_m = varx_h_m\n",
    "        self.varx_h_b = varx_h_b\n",
    "        self.varx_h_e = varx_h_e\n",
    "        self.second_res = {}\n",
    "        \n",
    "        dat = []\n",
    "        subj_x_ms = np.random.randn(n_subj) * s_x_mvar\n",
    "        subj_bs = np.random.randn(n_subj) * s_bvar\n",
    "        subj_h_ms = np.random.randn(n_subj) * s_h_mvar\n",
    "        subj_hx_ms = np.random.randn(n_subj) * s_hx_mvar\n",
    "        for subj in range(n_subj):\n",
    "            h = np.random.binomial(1, 0.5)\n",
    "            xs = np.random.randn(n_trials) * ((varx_h_m * h) + varx_h_b + (varx_h_e * np.random.randn(n_trials)))\n",
    "            xs_std = (xs - xs.mean())/xs.std()\n",
    "            x_term = ((x_y_m + subj_x_ms[subj]) * xs)\n",
    "            hx_term = ((hx_y_m + subj_hx_ms[subj]) * (h*xs))\n",
    "            h_term = ((h_y_m + subj_h_ms[subj]) * h)\n",
    "            const_term = x_y_b + subj_bs[subj]\n",
    "            ys =  x_term + hx_term + h_term + const_term + (x_y_e * np.random.randn(n_trials))\n",
    "            for trial in range(n_trials):\n",
    "                row = {}\n",
    "                row['subj'] = subj\n",
    "                row['trial'] = trial\n",
    "                row['x'] = xs[trial]\n",
    "                row['xstd'] = xs_std[trial]\n",
    "                row['y'] = ys[trial]\n",
    "                row['h'] = h\n",
    "                dat.append(row)\n",
    "        self.dat = pd.DataFrame(dat)\n",
    "        self._run_first_level()\n",
    "        self._run_second_level()\n",
    "\n",
    "    def _run_first_level(self):\n",
    "        fl_res = []\n",
    "        for sx, df in self.dat.groupby('subj'):\n",
    "            res = {}\n",
    "            res['subj'] = sx\n",
    "            res['h'] = df.iloc[0]['h']\n",
    "            mod = smf.ols(formula='y ~ x', data=df)\n",
    "            mres = mod.fit()\n",
    "            res['b'] = mres.params['x']\n",
    "            mod = smf.ols(formula='y ~ xstd', data=df)\n",
    "            mres = mod.fit()\n",
    "            res['b_std'] = mres.params['xstd']\n",
    "            fl_res.append(res)\n",
    "        self.first_res = pd.DataFrame(fl_res)\n",
    "        \n",
    "    def _run_second_level(self):\n",
    "        \n",
    "        sl_mod = smf.ols(formula='b ~ h', data = self.first_res)\n",
    "        self.second_res['unstd'] = sl_mod.fit()\n",
    "        sl_mod = smf.ols(formula='b_std ~ h', data = self.first_res)\n",
    "        self.second_res['std'] = sl_mod.fit()"
   ]
  },
  {
   "cell_type": "code",
   "execution_count": 135,
   "metadata": {},
   "outputs": [],
   "source": [
    "sd = SimulatedData()"
   ]
  },
  {
   "cell_type": "code",
   "execution_count": null,
   "metadata": {
    "scrolled": false
   },
   "outputs": [],
   "source": [
    "nsims = 100\n",
    "sim_res = []\n",
    "for sim in range(nsims):\n",
    "    sd = SimulatedData()\n",
    "    res = {}\n",
    "    res['b_h'] = sd.second_res['unstd'].params['h']\n",
    "    res['b_std_h'] = sd.second_res['std'].params['h']\n",
    "    sim_res.append(res)\n",
    "sim_res = pd.DataFrame(sim_res)"
   ]
  },
  {
   "cell_type": "code",
   "execution_count": 137,
   "metadata": {},
   "outputs": [
    {
     "data": {
      "text/plain": [
       "<matplotlib.legend.Legend at 0x1a25e6ead0>"
      ]
     },
     "execution_count": 137,
     "metadata": {},
     "output_type": "execute_result"
    },
    {
     "data": {
      "image/png": "[encoded data removed]",
      "text/plain": [
       "<Figure size 432x288 with 1 Axes>"
      ]
     },
     "metadata": {
      "needs_background": "light"
     },
     "output_type": "display_data"
    }
   ],
   "source": [
    "fig, ax = plt.subplots(1)\n",
    "sns.distplot(sim_res.b_h, ax=ax, label='Unstandardized')\n",
    "sns.distplot(sim_res.b_std_h, ax=ax, label='Standardized')\n",
    "ax.set_xlabel('Coefficient between h and b of x')\n",
    "ax.set_title(\"Proportional coding with subject level noise.\")\n",
    "ax.legend()"
   ]
  },
  {
   "cell_type": "markdown",
   "metadata": {},
   "source": [
    "Yep, confirms the results for proportional coding from lebreton "
   ]
  },
  {
   "cell_type": "markdown",
   "metadata": {},
   "source": [
    "# Let's see if a mixed effects model helps"
   ]
  },
  {
   "cell_type": "code",
   "execution_count": 68,
   "metadata": {},
   "outputs": [],
   "source": [
    "term_dict = {'x':1,\n",
    "             'h1':0.2,\n",
    "             'x:h1':0.5}"
   ]
  },
  {
   "cell_type": "code",
   "execution_count": 50,
   "metadata": {},
   "outputs": [
    {
     "name": "stdout",
     "output_type": "stream",
     "text": [
      "Model failed to converge with max|grad| = 0.00327169 (tol = 0.002, component 1) \n",
      "\n",
      "Model failed to converge with max|grad| = 0.00558741 (tol = 0.002, component 1) \n",
      "\n",
      "Model failed to converge with max|grad| = 0.00469009 (tol = 0.002, component 1) \n",
      "\n",
      "Model failed to converge with max|grad| = 0.00400551 (tol = 0.002, component 1) \n",
      "\n",
      "Model failed to converge with max|grad| = 0.00250704 (tol = 0.002, component 1) \n",
      "\n",
      "Model failed to converge with max|grad| = 0.00272882 (tol = 0.002, component 1) \n",
      "\n",
      "Model failed to converge with max|grad| = 0.00377355 (tol = 0.002, component 1) \n",
      "\n",
      "Model failed to converge with max|grad| = 0.0021261 (tol = 0.002, component 1) \n",
      "\n",
      "Model failed to converge with max|grad| = 0.00456596 (tol = 0.002, component 1) \n",
      "\n",
      "Model failed to converge with max|grad| = 0.00211594 (tol = 0.002, component 1) \n",
      "\n",
      "Model failed to converge with max|grad| = 0.00248618 (tol = 0.002, component 1) \n",
      "\n",
      "Model failed to converge with max|grad| = 0.00212591 (tol = 0.002, component 1) \n",
      "\n",
      "Model failed to converge with max|grad| = 0.00373417 (tol = 0.002, component 1) \n",
      "\n",
      "Model failed to converge with max|grad| = 0.00544217 (tol = 0.002, component 1) \n",
      "\n",
      "Model failed to converge with max|grad| = 0.00218938 (tol = 0.002, component 1) \n",
      "\n",
      "Model failed to converge with max|grad| = 0.0026019 (tol = 0.002, component 1) \n",
      "\n",
      "Model failed to converge with max|grad| = 0.0766156 (tol = 0.002, component 1) \n",
      "\n",
      "Model failed to converge with max|grad| = 0.00238755 (tol = 0.002, component 1) \n",
      "\n",
      "Model failed to converge with max|grad| = 0.00202351 (tol = 0.002, component 1) \n",
      "\n",
      "Model failed to converge with max|grad| = 0.004844 (tol = 0.002, component 1) \n",
      "\n",
      "Model failed to converge with max|grad| = 0.00294617 (tol = 0.002, component 1) \n",
      "\n",
      "Model failed to converge with max|grad| = 0.00278054 (tol = 0.002, component 1) \n",
      "\n",
      "Model failed to converge with max|grad| = 0.00249411 (tol = 0.002, component 1) \n",
      "\n",
      "Model failed to converge with max|grad| = 0.0119835 (tol = 0.002, component 1) \n",
      "\n",
      "Model failed to converge with max|grad| = 0.00545301 (tol = 0.002, component 1) \n",
      "\n",
      "Model failed to converge with max|grad| = 0.00208611 (tol = 0.002, component 1) \n",
      "\n",
      "Model failed to converge with max|grad| = 0.00271617 (tol = 0.002, component 1) \n",
      "\n",
      "Model failed to converge with max|grad| = 0.00289898 (tol = 0.002, component 1) \n",
      "\n",
      "Model failed to converge with max|grad| = 0.0021995 (tol = 0.002, component 1) \n",
      "\n",
      "Model failed to converge with max|grad| = 0.0106606 (tol = 0.002, component 1) \n",
      "\n",
      "Model failed to converge with max|grad| = 0.145676 (tol = 0.002, component 1) \n",
      "\n",
      "Model failed to converge with max|grad| = 0.00300573 (tol = 0.002, component 1) \n",
      "\n",
      "Model failed to converge with max|grad| = 0.00201366 (tol = 0.002, component 1) \n",
      "\n"
     ]
    }
   ],
   "source": [
    "\n",
    "res = []\n",
    "for sim in range(nsims):\n",
    "    sd = SimulatedData(x_y_m = term_dict['x'], x_y_e=1, h_y_m=term_dict['h1'], hx_y_m=term_dict['x:h1'],\n",
    "                       varx_h_m=1,  varx_h_e=2, s_h_mvar=1, s_hx_mvar=1)\n",
    "    model = Lmer('y ~ x * h + (x|subj)', data=sd.dat)\n",
    "    model.fit(factors={'h': [0,1]}, summarize=False, verbose=False)\n",
    "    \n",
    "    unstd = model.coefs\n",
    "    unstd['standardized'] = False\n",
    "    unstd['sim'] = sim\n",
    "    if model.warnings is not None:\n",
    "        if ('converge' in model.warnings) | np.any(['converge' in mw for mw in model.warnings]):\n",
    "            unstd['converged'] = False\n",
    "        else:\n",
    "            break\n",
    "    else:\n",
    "        unstd['converged'] = True\n",
    "        \n",
    "    model = Lmer('y ~ xstd * h + (xstd|subj)', data=sd.dat)\n",
    "    model.fit(factors={'h': [0,1]}, summarize=False, verbose=False)\n",
    "    \n",
    "    std = model.coefs\n",
    "    std['standardized'] = True\n",
    "    std['sim'] = sim\n",
    "    if model.warnings is not None:\n",
    "        if ('converge' in model.warnings) | np.any(['converge' in mw for mw in model.warnings]):\n",
    "            std['converged'] = False\n",
    "        else:\n",
    "            break\n",
    "    else:\n",
    "        std['converged'] = True\n",
    "    res.append(pd.concat([unstd, std]))"
   ]
  },
  {
   "cell_type": "code",
   "execution_count": 14,
   "metadata": {},
   "outputs": [],
   "source": [
    "model.warnings"
   ]
  },
  {
   "cell_type": "code",
   "execution_count": 51,
   "metadata": {},
   "outputs": [],
   "source": [
    "lme_res = pd.concat(res).reset_index().rename(columns={'index':'term'})"
   ]
  },
  {
   "cell_type": "code",
   "execution_count": 52,
   "metadata": {},
   "outputs": [],
   "source": [
    "lme_res.loc[lme_res.term == 'xstd', 'term'] = 'x'\n",
    "lme_res.loc[lme_res.term == 'xstd:h1', 'term'] = 'x:h1'"
   ]
  },
  {
   "cell_type": "code",
   "execution_count": 55,
   "metadata": {},
   "outputs": [
    {
     "data": {
      "text/html": [
       "<div>\n",
       "<style scoped>\n",
       "    .dataframe tbody tr th:only-of-type {\n",
       "        vertical-align: middle;\n",
       "    }\n",
       "\n",
       "    .dataframe tbody tr th {\n",
       "        vertical-align: top;\n",
       "    }\n",
       "\n",
       "    .dataframe thead th {\n",
       "        text-align: right;\n",
       "    }\n",
       "</style>\n",
       "<table border=\"1\" class=\"dataframe\">\n",
       "  <thead>\n",
       "    <tr style=\"text-align: right;\">\n",
       "      <th></th>\n",
       "      <th></th>\n",
       "      <th>Estimate</th>\n",
       "      <th>2.5_ci</th>\n",
       "      <th>97.5_ci</th>\n",
       "      <th>SE</th>\n",
       "      <th>DF</th>\n",
       "      <th>T-stat</th>\n",
       "      <th>P-val</th>\n",
       "      <th>sim</th>\n",
       "      <th>converged</th>\n",
       "    </tr>\n",
       "    <tr>\n",
       "      <th>standardized</th>\n",
       "      <th>term</th>\n",
       "      <th></th>\n",
       "      <th></th>\n",
       "      <th></th>\n",
       "      <th></th>\n",
       "      <th></th>\n",
       "      <th></th>\n",
       "      <th></th>\n",
       "      <th></th>\n",
       "      <th></th>\n",
       "    </tr>\n",
       "  </thead>\n",
       "  <tbody>\n",
       "    <tr>\n",
       "      <td rowspan=\"4\" valign=\"top\">False</td>\n",
       "      <td>(Intercept)</td>\n",
       "      <td>-0.000331</td>\n",
       "      <td>-0.287132</td>\n",
       "      <td>0.286470</td>\n",
       "      <td>0.146330</td>\n",
       "      <td>47.987380</td>\n",
       "      <td>-0.001016</td>\n",
       "      <td>0.848063</td>\n",
       "      <td>49.5</td>\n",
       "      <td>0.89</td>\n",
       "    </tr>\n",
       "    <tr>\n",
       "      <td>h1</td>\n",
       "      <td>0.165660</td>\n",
       "      <td>-0.236320</td>\n",
       "      <td>0.567641</td>\n",
       "      <td>0.205096</td>\n",
       "      <td>47.991778</td>\n",
       "      <td>0.861599</td>\n",
       "      <td>0.387128</td>\n",
       "      <td>49.5</td>\n",
       "      <td>0.89</td>\n",
       "    </tr>\n",
       "    <tr>\n",
       "      <td>x</td>\n",
       "      <td>1.014052</td>\n",
       "      <td>0.524169</td>\n",
       "      <td>1.503935</td>\n",
       "      <td>0.249945</td>\n",
       "      <td>48.079394</td>\n",
       "      <td>4.146796</td>\n",
       "      <td>0.003419</td>\n",
       "      <td>49.5</td>\n",
       "      <td>0.89</td>\n",
       "    </tr>\n",
       "    <tr>\n",
       "      <td>x:h1</td>\n",
       "      <td>0.496566</td>\n",
       "      <td>-0.191795</td>\n",
       "      <td>1.184927</td>\n",
       "      <td>0.351211</td>\n",
       "      <td>48.018422</td>\n",
       "      <td>1.421854</td>\n",
       "      <td>0.276622</td>\n",
       "      <td>49.5</td>\n",
       "      <td>0.89</td>\n",
       "    </tr>\n",
       "    <tr>\n",
       "      <td rowspan=\"4\" valign=\"top\">True</td>\n",
       "      <td>(Intercept)</td>\n",
       "      <td>0.004318</td>\n",
       "      <td>-0.396560</td>\n",
       "      <td>0.405197</td>\n",
       "      <td>0.204534</td>\n",
       "      <td>48.000068</td>\n",
       "      <td>0.010828</td>\n",
       "      <td>0.739856</td>\n",
       "      <td>49.5</td>\n",
       "      <td>0.78</td>\n",
       "    </tr>\n",
       "    <tr>\n",
       "      <td>h1</td>\n",
       "      <td>0.179137</td>\n",
       "      <td>-0.382793</td>\n",
       "      <td>0.741068</td>\n",
       "      <td>0.286704</td>\n",
       "      <td>48.000068</td>\n",
       "      <td>0.658826</td>\n",
       "      <td>0.448558</td>\n",
       "      <td>49.5</td>\n",
       "      <td>0.78</td>\n",
       "    </tr>\n",
       "    <tr>\n",
       "      <td>x</td>\n",
       "      <td>2.194017</td>\n",
       "      <td>0.893781</td>\n",
       "      <td>3.494253</td>\n",
       "      <td>0.663398</td>\n",
       "      <td>47.998769</td>\n",
       "      <td>3.400439</td>\n",
       "      <td>0.009594</td>\n",
       "      <td>49.5</td>\n",
       "      <td>0.78</td>\n",
       "    </tr>\n",
       "    <tr>\n",
       "      <td>x:h1</td>\n",
       "      <td>1.971706</td>\n",
       "      <td>0.145018</td>\n",
       "      <td>3.798395</td>\n",
       "      <td>0.932001</td>\n",
       "      <td>47.998770</td>\n",
       "      <td>2.119613</td>\n",
       "      <td>0.114351</td>\n",
       "      <td>49.5</td>\n",
       "      <td>0.78</td>\n",
       "    </tr>\n",
       "  </tbody>\n",
       "</table>\n",
       "</div>"
      ],
      "text/plain": [
       "                          Estimate    2.5_ci   97.5_ci        SE         DF  \\\n",
       "standardized term                                                             \n",
       "False        (Intercept) -0.000331 -0.287132  0.286470  0.146330  47.987380   \n",
       "             h1           0.165660 -0.236320  0.567641  0.205096  47.991778   \n",
       "             x            1.014052  0.524169  1.503935  0.249945  48.079394   \n",
       "             x:h1         0.496566 -0.191795  1.184927  0.351211  48.018422   \n",
       "True         (Intercept)  0.004318 -0.396560  0.405197  0.204534  48.000068   \n",
       "             h1           0.179137 -0.382793  0.741068  0.286704  48.000068   \n",
       "             x            2.194017  0.893781  3.494253  0.663398  47.998769   \n",
       "             x:h1         1.971706  0.145018  3.798395  0.932001  47.998770   \n",
       "\n",
       "                            T-stat     P-val   sim  converged  \n",
       "standardized term                                              \n",
       "False        (Intercept) -0.001016  0.848063  49.5       0.89  \n",
       "             h1           0.861599  0.387128  49.5       0.89  \n",
       "             x            4.146796  0.003419  49.5       0.89  \n",
       "             x:h1         1.421854  0.276622  49.5       0.89  \n",
       "True         (Intercept)  0.010828  0.739856  49.5       0.78  \n",
       "             h1           0.658826  0.448558  49.5       0.78  \n",
       "             x            3.400439  0.009594  49.5       0.78  \n",
       "             x:h1         2.119613  0.114351  49.5       0.78  "
      ]
     },
     "execution_count": 55,
     "metadata": {},
     "output_type": "execute_result"
    }
   ],
   "source": [
    "lme_res.groupby(['standardized', 'term']).mean()"
   ]
  },
  {
   "cell_type": "code",
   "execution_count": 70,
   "metadata": {},
   "outputs": [
    {
     "data": {
      "image/png": "[encoded data removed]",
      "text/plain": [
       "<Figure size 648x216 with 3 Axes>"
      ]
     },
     "metadata": {
      "needs_background": "light"
     },
     "output_type": "display_data"
    }
   ],
   "source": [
    "fig, axs = plt.subplots(1,3, figsize=(9,3))\n",
    "\n",
    "for ii, (ax, t) in enumerate(zip(axs,['x', 'h1', 'x:h1'])):\n",
    "    sns.distplot(lme_res.query('~standardized & term == @t')['Estimate'], label='Unstandardized', ax=ax)\n",
    "    sns.distplot(lme_res.query('standardized & term == @t')['Estimate'], label='Standardized', ax=ax)\n",
    "    ymin,ymax = ax.get_ylim()\n",
    "    ax.axvline(term_dict[t], ymin, ymax)\n",
    "    ax.set_ylim(ymin,ymax)\n",
    "    ax.set_title(t)\n",
    "    if ii == 0:\n",
    "        ax.legend()\n",
    "fig.tight_layout()"
   ]
  }
 ],
 "metadata": {
  "kernelspec": {
   "display_name": "Python 3",
   "language": "python",
   "name": "python3"
  },
  "language_info": {
   "codemirror_mode": {
    "name": "ipython",
    "version": 3
   },
   "file_extension": ".py",
   "mimetype": "text/x-python",
   "name": "python",
   "nbconvert_exporter": "python",
   "pygments_lexer": "ipython3",
   "version": "3.7.4"
  }
 },
 "nbformat": 4,
 "nbformat_minor": 2
}
