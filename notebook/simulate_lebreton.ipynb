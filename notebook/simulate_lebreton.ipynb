{
 "cells": [
  {
   "cell_type": "code",
   "execution_count": 54,
   "metadata": {},
   "outputs": [
    {
     "data": {
      "text/html": [
       "<style>#notebook { padding-top:0px !important; } .container { width:100% !important; } .end_space { min-height:0px !important; } </style>"
      ],
      "text/plain": [
       "<IPython.core.display.HTML object>"
      ]
     },
     "metadata": {},
     "output_type": "display_data"
    }
   ],
   "source": [
    "import numpy as np\n",
    "import pandas as pd\n",
    "from matplotlib import pyplot as plt\n",
    "import seaborn as sns\n",
    "%matplotlib inline\n",
    "from scipy import stats\n",
    "import statsmodels.formula.api as smf\n",
    "\n",
    "from IPython.core.display import display, HTML\n",
    "display(HTML(\"<style>\"\n",
    "    + \"#notebook { padding-top:0px !important; } \" \n",
    "    + \".container { width:100% !important; } \"\n",
    "    + \".end_space { min-height:0px !important; } \"\n",
    "    + \"</style>\"))"
   ]
  },
  {
   "cell_type": "markdown",
   "metadata": {},
   "source": [
    "# Simulate some data\n",
    "Assume that there is a bold signal Y correlated within each subject to behavior x. h is a heterogenity factor that influences the variance of x. There is subject level noise in the relationship between x and Y. Assume proportional coding."
   ]
  },
  {
   "cell_type": "code",
   "execution_count": 43,
   "metadata": {},
   "outputs": [],
   "source": [
    "n_subj = 50\n",
    "n_trials = 50\n",
    "# Variables for the relationship between x an y\n",
    "# y = mx + b + e\n",
    "x_y_m = 2\n",
    "x_y_b = 0\n",
    "x_y_e = 0\n",
    "\n",
    "# Variables for subject level random effect\n",
    "# variance on distribution of subject level slope noise\n",
    "s_mvar = 1\n",
    "# variance on distribution of subject level intercept noise\n",
    "s_bvar = 0.1\n",
    "\n",
    "# Variables for relationship between h and h\n",
    "# var(x) = mh + b + e\n",
    "varx_h_m = 1\n",
    "varx_h_b = 1\n",
    "varx_h_e = 0"
   ]
  },
  {
   "cell_type": "code",
   "execution_count": 122,
   "metadata": {},
   "outputs": [],
   "source": [
    "class SimulatedData(object):\n",
    "\n",
    "    def __init__(self, n_subj=50, n_trials=50,\n",
    "                 x_y_m=2, x_y_b=0, x_y_e=0,\n",
    "                 s_mvar=1, s_bvar=0.1,\n",
    "                 varx_h_m=1, varx_h_b=1, varx_h_e=0):\n",
    "        \n",
    "        self.n_subj = n_subj\n",
    "        self.n_trials = n_trials\n",
    "        self.x_y_m = x_y_m\n",
    "        self.x_y_b = x_y_b\n",
    "        self.x_y_e = x_y_e\n",
    "        self.s_mvar = s_mvar\n",
    "        self.s_bvar = s_bvar\n",
    "        self.varx_h_m = varx_h_m\n",
    "        self.varx_h_b = varx_h_b\n",
    "        self.varx_h_e = varx_h_e\n",
    "        self.second_res = {}\n",
    "        \n",
    "        dat = []\n",
    "        subj_ms = np.random.randn(n_subj) * s_mvar\n",
    "        subj_bs = np.random.randn(n_subj) * s_bvar\n",
    "        for subj in range(n_subj):\n",
    "            h = np.random.binomial(1, 0.5)\n",
    "            xs = np.random.randn(n_trials) * ((varx_h_m * h) + varx_h_b + (varx_h_e * np.random.randn(n_trials)))\n",
    "            xs_std = (xs - xs.mean())/xs.std()\n",
    "            ys = ((x_y_m + subj_ms[subj]) * xs) + x_y_b + subj_bs[subj] + (x_y_e * np.random.randn(n_trials))\n",
    "            for trial in range(n_trials):\n",
    "                row = {}\n",
    "                row['subj'] = subj\n",
    "                row['trial'] = trial\n",
    "                row['x'] = xs[trial]\n",
    "                row['xstd'] = xs_std[trial]\n",
    "                row['y'] = ys[trial]\n",
    "                row['h'] = h\n",
    "                dat.append(row)\n",
    "        self.dat = pd.DataFrame(dat)\n",
    "        self._run_first_level()\n",
    "        self._run_second_level()\n",
    "\n",
    "    def _run_first_level(self):\n",
    "        fl_res = []\n",
    "        for sx, df in self.dat.groupby('subj'):\n",
    "            res = {}\n",
    "            res['subj'] = sx\n",
    "            res['h'] = df.iloc[0]['h']\n",
    "            mod = smf.ols(formula='y ~ x', data=df)\n",
    "            mres = mod.fit()\n",
    "            res['b'] = mres.params['x']\n",
    "            mod = smf.ols(formula='y ~ xstd', data=df)\n",
    "            mres = mod.fit()\n",
    "            res['b_std'] = mres.params['xstd']\n",
    "            fl_res.append(res)\n",
    "        self.first_res = pd.DataFrame(fl_res)\n",
    "        \n",
    "    def _run_second_level(self):\n",
    "        \n",
    "        sl_mod = smf.ols(formula='b ~ h', data = self.first_res)\n",
    "        self.second_res['unstd'] = sl_mod.fit()\n",
    "        sl_mod = smf.ols(formula='b_std ~ h', data = self.first_res)\n",
    "        self.second_res['std'] = sl_mod.fit()"
   ]
  },
  {
   "cell_type": "code",
   "execution_count": 123,
   "metadata": {},
   "outputs": [],
   "source": [
    "sd = SimulatedData()"
   ]
  },
  {
   "cell_type": "code",
   "execution_count": 128,
   "metadata": {},
   "outputs": [],
   "source": [
    "nsims = 100\n",
    "sim_res = []\n",
    "for sim in range(nsims):\n",
    "    sd = SimulatedData()\n",
    "    res = {}\n",
    "    res['b_h'] = sd.second_res['unstd'].params['h']\n",
    "    res['b_std_h'] = sd.second_res['std'].params['h']\n",
    "    sim_res.append(res)\n",
    "sim_res = pd.DataFrame(sim_res)"
   ]
  },
  {
   "cell_type": "code",
   "execution_count": 132,
   "metadata": {},
   "outputs": [
    {
     "data": {
      "text/plain": [
       "<matplotlib.axes._subplots.AxesSubplot at 0x1a258a5790>"
      ]
     },
     "execution_count": 132,
     "metadata": {},
     "output_type": "execute_result"
    },
    {
     "data": {
      "image/png": "[encoded data removed]",
      "text/plain": [
       "<Figure size 432x288 with 1 Axes>"
      ]
     },
     "metadata": {
      "needs_background": "light"
     },
     "output_type": "display_data"
    }
   ],
   "source": [
    "sns.distplot(sim_res.b_h)\n",
    "sns.distplot(sim_res.b_std_h)"
   ]
  },
  {
   "cell_type": "code",
   "execution_count": 130,
   "metadata": {},
   "outputs": [
    {
     "data": {
      "text/html": [
       "<div>\n",
       "<style scoped>\n",
       "    .dataframe tbody tr th:only-of-type {\n",
       "        vertical-align: middle;\n",
       "    }\n",
       "\n",
       "    .dataframe tbody tr th {\n",
       "        vertical-align: top;\n",
       "    }\n",
       "\n",
       "    .dataframe thead th {\n",
       "        text-align: right;\n",
       "    }\n",
       "</style>\n",
       "<table border=\"1\" class=\"dataframe\">\n",
       "  <thead>\n",
       "    <tr style=\"text-align: right;\">\n",
       "      <th></th>\n",
       "      <th>b_h</th>\n",
       "      <th>b_std_h</th>\n",
       "    </tr>\n",
       "  </thead>\n",
       "  <tbody>\n",
       "    <tr>\n",
       "      <td>0</td>\n",
       "      <td>-0.225488</td>\n",
       "      <td>2.001282</td>\n",
       "    </tr>\n",
       "    <tr>\n",
       "      <td>1</td>\n",
       "      <td>-0.169075</td>\n",
       "      <td>1.704774</td>\n",
       "    </tr>\n",
       "    <tr>\n",
       "      <td>2</td>\n",
       "      <td>0.262467</td>\n",
       "      <td>2.415473</td>\n",
       "    </tr>\n",
       "    <tr>\n",
       "      <td>3</td>\n",
       "      <td>0.074885</td>\n",
       "      <td>1.900367</td>\n",
       "    </tr>\n",
       "    <tr>\n",
       "      <td>4</td>\n",
       "      <td>-0.353471</td>\n",
       "      <td>1.623646</td>\n",
       "    </tr>\n",
       "    <tr>\n",
       "      <td>...</td>\n",
       "      <td>...</td>\n",
       "      <td>...</td>\n",
       "    </tr>\n",
       "    <tr>\n",
       "      <td>95</td>\n",
       "      <td>0.160471</td>\n",
       "      <td>2.224123</td>\n",
       "    </tr>\n",
       "    <tr>\n",
       "      <td>96</td>\n",
       "      <td>0.157099</td>\n",
       "      <td>2.350581</td>\n",
       "    </tr>\n",
       "    <tr>\n",
       "      <td>97</td>\n",
       "      <td>0.147616</td>\n",
       "      <td>2.329068</td>\n",
       "    </tr>\n",
       "    <tr>\n",
       "      <td>98</td>\n",
       "      <td>0.231650</td>\n",
       "      <td>2.114975</td>\n",
       "    </tr>\n",
       "    <tr>\n",
       "      <td>99</td>\n",
       "      <td>0.119572</td>\n",
       "      <td>2.510930</td>\n",
       "    </tr>\n",
       "  </tbody>\n",
       "</table>\n",
       "<p>100 rows × 2 columns</p>\n",
       "</div>"
      ],
      "text/plain": [
       "         b_h   b_std_h\n",
       "0  -0.225488  2.001282\n",
       "1  -0.169075  1.704774\n",
       "2   0.262467  2.415473\n",
       "3   0.074885  1.900367\n",
       "4  -0.353471  1.623646\n",
       "..       ...       ...\n",
       "95  0.160471  2.224123\n",
       "96  0.157099  2.350581\n",
       "97  0.147616  2.329068\n",
       "98  0.231650  2.114975\n",
       "99  0.119572  2.510930\n",
       "\n",
       "[100 rows x 2 columns]"
      ]
     },
     "execution_count": 130,
     "metadata": {},
     "output_type": "execute_result"
    }
   ],
   "source": [
    "sim_res"
   ]
  },
  {
   "cell_type": "code",
   "execution_count": 125,
   "metadata": {},
   "outputs": [
    {
     "data": {
      "text/html": [
       "<table class=\"simpletable\">\n",
       "<caption>OLS Regression Results</caption>\n",
       "<tr>\n",
       "  <th>Dep. Variable:</th>          <td>b_std</td>      <th>  R-squared:         </th> <td>   0.152</td>\n",
       "</tr>\n",
       "<tr>\n",
       "  <th>Model:</th>                   <td>OLS</td>       <th>  Adj. R-squared:    </th> <td>   0.134</td>\n",
       "</tr>\n",
       "<tr>\n",
       "  <th>Method:</th>             <td>Least Squares</td>  <th>  F-statistic:       </th> <td>   8.586</td>\n",
       "</tr>\n",
       "<tr>\n",
       "  <th>Date:</th>             <td>Wed, 04 Sep 2019</td> <th>  Prob (F-statistic):</th>  <td>0.00517</td>\n",
       "</tr>\n",
       "<tr>\n",
       "  <th>Time:</th>                 <td>11:34:41</td>     <th>  Log-Likelihood:    </th> <td> -95.001</td>\n",
       "</tr>\n",
       "<tr>\n",
       "  <th>No. Observations:</th>      <td>    50</td>      <th>  AIC:               </th> <td>   194.0</td>\n",
       "</tr>\n",
       "<tr>\n",
       "  <th>Df Residuals:</th>          <td>    48</td>      <th>  BIC:               </th> <td>   197.8</td>\n",
       "</tr>\n",
       "<tr>\n",
       "  <th>Df Model:</th>              <td>     1</td>      <th>                     </th>     <td> </td>   \n",
       "</tr>\n",
       "<tr>\n",
       "  <th>Covariance Type:</th>      <td>nonrobust</td>    <th>                     </th>     <td> </td>   \n",
       "</tr>\n",
       "</table>\n",
       "<table class=\"simpletable\">\n",
       "<tr>\n",
       "      <td></td>         <th>coef</th>     <th>std err</th>      <th>t</th>      <th>P>|t|</th>  <th>[0.025</th>    <th>0.975]</th>  \n",
       "</tr>\n",
       "<tr>\n",
       "  <th>Intercept</th> <td>    2.1382</td> <td>    0.330</td> <td>    6.475</td> <td> 0.000</td> <td>    1.474</td> <td>    2.802</td>\n",
       "</tr>\n",
       "<tr>\n",
       "  <th>h</th>         <td>    1.3685</td> <td>    0.467</td> <td>    2.930</td> <td> 0.005</td> <td>    0.429</td> <td>    2.307</td>\n",
       "</tr>\n",
       "</table>\n",
       "<table class=\"simpletable\">\n",
       "<tr>\n",
       "  <th>Omnibus:</th>       <td>22.144</td> <th>  Durbin-Watson:     </th> <td>   2.244</td>\n",
       "</tr>\n",
       "<tr>\n",
       "  <th>Prob(Omnibus):</th> <td> 0.000</td> <th>  Jarque-Bera (JB):  </th> <td>  69.007</td>\n",
       "</tr>\n",
       "<tr>\n",
       "  <th>Skew:</th>          <td> 1.000</td> <th>  Prob(JB):          </th> <td>1.04e-15</td>\n",
       "</tr>\n",
       "<tr>\n",
       "  <th>Kurtosis:</th>      <td> 8.396</td> <th>  Cond. No.          </th> <td>    2.62</td>\n",
       "</tr>\n",
       "</table><br/><br/>Warnings:<br/>[1] Standard Errors assume that the covariance matrix of the errors is correctly specified."
      ],
      "text/plain": [
       "<class 'statsmodels.iolib.summary.Summary'>\n",
       "\"\"\"\n",
       "                            OLS Regression Results                            \n",
       "==============================================================================\n",
       "Dep. Variable:                  b_std   R-squared:                       0.152\n",
       "Model:                            OLS   Adj. R-squared:                  0.134\n",
       "Method:                 Least Squares   F-statistic:                     8.586\n",
       "Date:                Wed, 04 Sep 2019   Prob (F-statistic):            0.00517\n",
       "Time:                        11:34:41   Log-Likelihood:                -95.001\n",
       "No. Observations:                  50   AIC:                             194.0\n",
       "Df Residuals:                      48   BIC:                             197.8\n",
       "Df Model:                           1                                         \n",
       "Covariance Type:            nonrobust                                         \n",
       "==============================================================================\n",
       "                 coef    std err          t      P>|t|      [0.025      0.975]\n",
       "------------------------------------------------------------------------------\n",
       "Intercept      2.1382      0.330      6.475      0.000       1.474       2.802\n",
       "h              1.3685      0.467      2.930      0.005       0.429       2.307\n",
       "==============================================================================\n",
       "Omnibus:                       22.144   Durbin-Watson:                   2.244\n",
       "Prob(Omnibus):                  0.000   Jarque-Bera (JB):               69.007\n",
       "Skew:                           1.000   Prob(JB):                     1.04e-15\n",
       "Kurtosis:                       8.396   Cond. No.                         2.62\n",
       "==============================================================================\n",
       "\n",
       "Warnings:\n",
       "[1] Standard Errors assume that the covariance matrix of the errors is correctly specified.\n",
       "\"\"\""
      ]
     },
     "execution_count": 125,
     "metadata": {},
     "output_type": "execute_result"
    }
   ],
   "source": [
    "sd.second_res['std'].summary()"
   ]
  },
  {
   "cell_type": "code",
   "execution_count": 74,
   "metadata": {},
   "outputs": [
    {
     "data": {
      "image/png": "[encoded data removed]",
      "text/plain": [
       "<Figure size 432x288 with 1 Axes>"
      ]
     },
     "metadata": {
      "needs_background": "light"
     },
     "output_type": "display_data"
    }
   ],
   "source": [
    "for sx, df in dat.groupby('subj'):\n",
    "    plt.plot(df.y, df.x, 'o')\n",
    "    "
   ]
  },
  {
   "cell_type": "code",
   "execution_count": 75,
   "metadata": {},
   "outputs": [
    {
     "data": {
      "text/plain": [
       "[<matplotlib.lines.Line2D at 0x1a2532fb10>]"
      ]
     },
     "execution_count": 75,
     "metadata": {},
     "output_type": "execute_result"
    },
    {
     "data": {
      "image/png": "[encoded data removed]",
      "text/plain": [
       "<Figure size 432x288 with 1 Axes>"
      ]
     },
     "metadata": {
      "needs_background": "light"
     },
     "output_type": "display_data"
    }
   ],
   "source": [
    "var_x_df = dat.groupby('subj').agg({'x':'std', 'h':'first'})\n",
    "plt.plot(var_x_df.h, var_x_df.x, 'o')"
   ]
  },
  {
   "cell_type": "markdown",
   "metadata": {},
   "source": [
    "# Run first level analysis"
   ]
  },
  {
   "cell_type": "code",
   "execution_count": 83,
   "metadata": {
    "scrolled": true
   },
   "outputs": [],
   "source": [
    "fl_res = []\n",
    "for sx, df in dat.groupby('subj'):\n",
    "    res = {}\n",
    "    res['subj'] = sx\n",
    "    res['h'] = df.iloc[0]['h']\n",
    "    mod = smf.ols(formula='y ~ x', data=df)\n",
    "    mres = mod.fit()\n",
    "    res['b'] = mres.params['x']\n",
    "    mod = smf.ols(formula='y ~ xstd', data=df)\n",
    "    mres = mod.fit()\n",
    "    res['b_std'] = mres.params['xstd']\n",
    "    fl_res.append(res)\n",
    "fl_res = pd.DataFrame(fl_res)"
   ]
  },
  {
   "cell_type": "markdown",
   "metadata": {},
   "source": [
    "# Correlate b vs h"
   ]
  },
  {
   "cell_type": "code",
   "execution_count": 85,
   "metadata": {},
   "outputs": [
    {
     "data": {
      "text/html": [
       "<table class=\"simpletable\">\n",
       "<caption>OLS Regression Results</caption>\n",
       "<tr>\n",
       "  <th>Dep. Variable:</th>            <td>b</td>        <th>  R-squared:         </th> <td>   0.001</td>\n",
       "</tr>\n",
       "<tr>\n",
       "  <th>Model:</th>                   <td>OLS</td>       <th>  Adj. R-squared:    </th> <td>  -0.019</td>\n",
       "</tr>\n",
       "<tr>\n",
       "  <th>Method:</th>             <td>Least Squares</td>  <th>  F-statistic:       </th> <td> 0.06446</td>\n",
       "</tr>\n",
       "<tr>\n",
       "  <th>Date:</th>             <td>Wed, 04 Sep 2019</td> <th>  Prob (F-statistic):</th>  <td> 0.801</td> \n",
       "</tr>\n",
       "<tr>\n",
       "  <th>Time:</th>                 <td>11:11:56</td>     <th>  Log-Likelihood:    </th> <td> -75.386</td>\n",
       "</tr>\n",
       "<tr>\n",
       "  <th>No. Observations:</th>      <td>    50</td>      <th>  AIC:               </th> <td>   154.8</td>\n",
       "</tr>\n",
       "<tr>\n",
       "  <th>Df Residuals:</th>          <td>    48</td>      <th>  BIC:               </th> <td>   158.6</td>\n",
       "</tr>\n",
       "<tr>\n",
       "  <th>Df Model:</th>              <td>     1</td>      <th>                     </th>     <td> </td>   \n",
       "</tr>\n",
       "<tr>\n",
       "  <th>Covariance Type:</th>      <td>nonrobust</td>    <th>                     </th>     <td> </td>   \n",
       "</tr>\n",
       "</table>\n",
       "<table class=\"simpletable\">\n",
       "<tr>\n",
       "      <td></td>         <th>coef</th>     <th>std err</th>      <th>t</th>      <th>P>|t|</th>  <th>[0.025</th>    <th>0.975]</th>  \n",
       "</tr>\n",
       "<tr>\n",
       "  <th>Intercept</th> <td>    1.8707</td> <td>    0.238</td> <td>    7.866</td> <td> 0.000</td> <td>    1.393</td> <td>    2.349</td>\n",
       "</tr>\n",
       "<tr>\n",
       "  <th>h</th>         <td>    0.0807</td> <td>    0.318</td> <td>    0.254</td> <td> 0.801</td> <td>   -0.558</td> <td>    0.720</td>\n",
       "</tr>\n",
       "</table>\n",
       "<table class=\"simpletable\">\n",
       "<tr>\n",
       "  <th>Omnibus:</th>       <td>11.524</td> <th>  Durbin-Watson:     </th> <td>   2.534</td>\n",
       "</tr>\n",
       "<tr>\n",
       "  <th>Prob(Omnibus):</th> <td> 0.003</td> <th>  Jarque-Bera (JB):  </th> <td>  11.475</td>\n",
       "</tr>\n",
       "<tr>\n",
       "  <th>Skew:</th>          <td>-1.032</td> <th>  Prob(JB):          </th> <td> 0.00322</td>\n",
       "</tr>\n",
       "<tr>\n",
       "  <th>Kurtosis:</th>      <td> 4.117</td> <th>  Cond. No.          </th> <td>    2.78</td>\n",
       "</tr>\n",
       "</table><br/><br/>Warnings:<br/>[1] Standard Errors assume that the covariance matrix of the errors is correctly specified."
      ],
      "text/plain": [
       "<class 'statsmodels.iolib.summary.Summary'>\n",
       "\"\"\"\n",
       "                            OLS Regression Results                            \n",
       "==============================================================================\n",
       "Dep. Variable:                      b   R-squared:                       0.001\n",
       "Model:                            OLS   Adj. R-squared:                 -0.019\n",
       "Method:                 Least Squares   F-statistic:                   0.06446\n",
       "Date:                Wed, 04 Sep 2019   Prob (F-statistic):              0.801\n",
       "Time:                        11:11:56   Log-Likelihood:                -75.386\n",
       "No. Observations:                  50   AIC:                             154.8\n",
       "Df Residuals:                      48   BIC:                             158.6\n",
       "Df Model:                           1                                         \n",
       "Covariance Type:            nonrobust                                         \n",
       "==============================================================================\n",
       "                 coef    std err          t      P>|t|      [0.025      0.975]\n",
       "------------------------------------------------------------------------------\n",
       "Intercept      1.8707      0.238      7.866      0.000       1.393       2.349\n",
       "h              0.0807      0.318      0.254      0.801      -0.558       0.720\n",
       "==============================================================================\n",
       "Omnibus:                       11.524   Durbin-Watson:                   2.534\n",
       "Prob(Omnibus):                  0.003   Jarque-Bera (JB):               11.475\n",
       "Skew:                          -1.032   Prob(JB):                      0.00322\n",
       "Kurtosis:                       4.117   Cond. No.                         2.78\n",
       "==============================================================================\n",
       "\n",
       "Warnings:\n",
       "[1] Standard Errors assume that the covariance matrix of the errors is correctly specified.\n",
       "\"\"\""
      ]
     },
     "execution_count": 85,
     "metadata": {},
     "output_type": "execute_result"
    }
   ],
   "source": [
    "sl_mod = smf.ols(formula='b ~ h', data = fl_res)\n",
    "sl_mres = sl_mod.fit()\n",
    "sl_mres.summary()"
   ]
  },
  {
   "cell_type": "code",
   "execution_count": null,
   "metadata": {},
   "outputs": [],
   "source": [
    "sl_mres."
   ]
  },
  {
   "cell_type": "code",
   "execution_count": 86,
   "metadata": {},
   "outputs": [
    {
     "data": {
      "text/html": [
       "<table class=\"simpletable\">\n",
       "<caption>OLS Regression Results</caption>\n",
       "<tr>\n",
       "  <th>Dep. Variable:</th>          <td>b_std</td>      <th>  R-squared:         </th> <td>   0.257</td>\n",
       "</tr>\n",
       "<tr>\n",
       "  <th>Model:</th>                   <td>OLS</td>       <th>  Adj. R-squared:    </th> <td>   0.241</td>\n",
       "</tr>\n",
       "<tr>\n",
       "  <th>Method:</th>             <td>Least Squares</td>  <th>  F-statistic:       </th> <td>   16.60</td>\n",
       "</tr>\n",
       "<tr>\n",
       "  <th>Date:</th>             <td>Wed, 04 Sep 2019</td> <th>  Prob (F-statistic):</th> <td>0.000172</td>\n",
       "</tr>\n",
       "<tr>\n",
       "  <th>Time:</th>                 <td>11:12:07</td>     <th>  Log-Likelihood:    </th> <td> -100.23</td>\n",
       "</tr>\n",
       "<tr>\n",
       "  <th>No. Observations:</th>      <td>    50</td>      <th>  AIC:               </th> <td>   204.5</td>\n",
       "</tr>\n",
       "<tr>\n",
       "  <th>Df Residuals:</th>          <td>    48</td>      <th>  BIC:               </th> <td>   208.3</td>\n",
       "</tr>\n",
       "<tr>\n",
       "  <th>Df Model:</th>              <td>     1</td>      <th>                     </th>     <td> </td>   \n",
       "</tr>\n",
       "<tr>\n",
       "  <th>Covariance Type:</th>      <td>nonrobust</td>    <th>                     </th>     <td> </td>   \n",
       "</tr>\n",
       "</table>\n",
       "<table class=\"simpletable\">\n",
       "<tr>\n",
       "      <td></td>         <th>coef</th>     <th>std err</th>      <th>t</th>      <th>P>|t|</th>  <th>[0.025</th>    <th>0.975]</th>  \n",
       "</tr>\n",
       "<tr>\n",
       "  <th>Intercept</th> <td>    1.8602</td> <td>    0.391</td> <td>    4.759</td> <td> 0.000</td> <td>    1.074</td> <td>    2.646</td>\n",
       "</tr>\n",
       "<tr>\n",
       "  <th>h</th>         <td>    2.1282</td> <td>    0.522</td> <td>    4.074</td> <td> 0.000</td> <td>    1.078</td> <td>    3.178</td>\n",
       "</tr>\n",
       "</table>\n",
       "<table class=\"simpletable\">\n",
       "<tr>\n",
       "  <th>Omnibus:</th>       <td>14.181</td> <th>  Durbin-Watson:     </th> <td>   2.344</td>\n",
       "</tr>\n",
       "<tr>\n",
       "  <th>Prob(Omnibus):</th> <td> 0.001</td> <th>  Jarque-Bera (JB):  </th> <td>  17.343</td>\n",
       "</tr>\n",
       "<tr>\n",
       "  <th>Skew:</th>          <td>-1.020</td> <th>  Prob(JB):          </th> <td>0.000171</td>\n",
       "</tr>\n",
       "<tr>\n",
       "  <th>Kurtosis:</th>      <td> 5.040</td> <th>  Cond. No.          </th> <td>    2.78</td>\n",
       "</tr>\n",
       "</table><br/><br/>Warnings:<br/>[1] Standard Errors assume that the covariance matrix of the errors is correctly specified."
      ],
      "text/plain": [
       "<class 'statsmodels.iolib.summary.Summary'>\n",
       "\"\"\"\n",
       "                            OLS Regression Results                            \n",
       "==============================================================================\n",
       "Dep. Variable:                  b_std   R-squared:                       0.257\n",
       "Model:                            OLS   Adj. R-squared:                  0.241\n",
       "Method:                 Least Squares   F-statistic:                     16.60\n",
       "Date:                Wed, 04 Sep 2019   Prob (F-statistic):           0.000172\n",
       "Time:                        11:12:07   Log-Likelihood:                -100.23\n",
       "No. Observations:                  50   AIC:                             204.5\n",
       "Df Residuals:                      48   BIC:                             208.3\n",
       "Df Model:                           1                                         \n",
       "Covariance Type:            nonrobust                                         \n",
       "==============================================================================\n",
       "                 coef    std err          t      P>|t|      [0.025      0.975]\n",
       "------------------------------------------------------------------------------\n",
       "Intercept      1.8602      0.391      4.759      0.000       1.074       2.646\n",
       "h              2.1282      0.522      4.074      0.000       1.078       3.178\n",
       "==============================================================================\n",
       "Omnibus:                       14.181   Durbin-Watson:                   2.344\n",
       "Prob(Omnibus):                  0.001   Jarque-Bera (JB):               17.343\n",
       "Skew:                          -1.020   Prob(JB):                     0.000171\n",
       "Kurtosis:                       5.040   Cond. No.                         2.78\n",
       "==============================================================================\n",
       "\n",
       "Warnings:\n",
       "[1] Standard Errors assume that the covariance matrix of the errors is correctly specified.\n",
       "\"\"\""
      ]
     },
     "execution_count": 86,
     "metadata": {},
     "output_type": "execute_result"
    }
   ],
   "source": [
    "sl_mod = smf.ols(formula='b_std ~ h', data = fl_res)\n",
    "sl_mres = sl_mod.fit()\n",
    "sl_mres.summary()"
   ]
  },
  {
   "cell_type": "markdown",
   "metadata": {},
   "source": [
    "Yep, confirms the results for proportional coding from lebreton "
   ]
  },
  {
   "cell_type": "markdown",
   "metadata": {},
   "source": [
    "# Let's see if a mixed effects model helps"
   ]
  },
  {
   "cell_type": "code",
   "execution_count": null,
   "metadata": {},
   "outputs": [],
   "source": []
  }
 ],
 "metadata": {
  "kernelspec": {
   "display_name": "Python 3",
   "language": "python",
   "name": "python3"
  },
  "language_info": {
   "codemirror_mode": {
    "name": "ipython",
    "version": 3
   },
   "file_extension": ".py",
   "mimetype": "text/x-python",
   "name": "python",
   "nbconvert_exporter": "python",
   "pygments_lexer": "ipython3",
   "version": "3.7.4"
  }
 },
 "nbformat": 4,
 "nbformat_minor": 2
}
